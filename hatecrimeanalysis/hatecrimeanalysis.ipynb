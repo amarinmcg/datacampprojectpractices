{
 "cells": [
  {
   "cell_type": "markdown",
   "id": "c920b5d3",
   "metadata": {},
   "source": [
    "# Hate Crime Analysis - DC"
   ]
  },
  {
   "cell_type": "markdown",
   "id": "b47f2a4d",
   "metadata": {},
   "source": [
    "Investigate the hate crime rate of incidents involving Sexual Orientation & Gender Identity"
   ]
  },
  {
   "cell_type": "code",
   "execution_count": 77,
   "id": "4ed33f29",
   "metadata": {},
   "outputs": [],
   "source": [
    "import pandas as pd\n",
    "import numpy as np\n",
    "import seaborn as sns\n",
    "import matplotlib.pyplot as plt"
   ]
  },
  {
   "cell_type": "markdown",
   "id": "b0d67e10",
   "metadata": {},
   "source": [
    "## Examining Data"
   ]
  },
  {
   "cell_type": "code",
   "execution_count": 78,
   "id": "b90bea1e",
   "metadata": {},
   "outputs": [
    {
     "data": {
      "text/html": [
       "<div>\n",
       "<style scoped>\n",
       "    .dataframe tbody tr th:only-of-type {\n",
       "        vertical-align: middle;\n",
       "    }\n",
       "\n",
       "    .dataframe tbody tr th {\n",
       "        vertical-align: top;\n",
       "    }\n",
       "\n",
       "    .dataframe thead th {\n",
       "        text-align: right;\n",
       "    }\n",
       "</style>\n",
       "<table border=\"1\" class=\"dataframe\">\n",
       "  <thead>\n",
       "    <tr style=\"text-align: right;\">\n",
       "      <th></th>\n",
       "      <th>Date of Offense</th>\n",
       "      <th>Time of Offense</th>\n",
       "      <th>Date Offense Reported</th>\n",
       "      <th>Report Year</th>\n",
       "      <th>Month</th>\n",
       "      <th>CCN</th>\n",
       "      <th>District</th>\n",
       "      <th>Block Location</th>\n",
       "      <th>Type of Hate Bias</th>\n",
       "      <th>Targeted Group</th>\n",
       "      <th>Top Offense Type</th>\n",
       "    </tr>\n",
       "  </thead>\n",
       "  <tbody>\n",
       "    <tr>\n",
       "      <th>0</th>\n",
       "      <td>2012-01-08</td>\n",
       "      <td>1500-1505</td>\n",
       "      <td>2012-01-08</td>\n",
       "      <td>2012</td>\n",
       "      <td>1</td>\n",
       "      <td>12003845</td>\n",
       "      <td>3D</td>\n",
       "      <td>1600 block 17th St NW</td>\n",
       "      <td>Sexual Orientation</td>\n",
       "      <td>NaN</td>\n",
       "      <td>Threats</td>\n",
       "    </tr>\n",
       "    <tr>\n",
       "      <th>1</th>\n",
       "      <td>2012-01-12</td>\n",
       "      <td>1722</td>\n",
       "      <td>2012-01-12</td>\n",
       "      <td>2012</td>\n",
       "      <td>1</td>\n",
       "      <td>12005834</td>\n",
       "      <td>1D</td>\n",
       "      <td>3rd St SW and K St SW</td>\n",
       "      <td>Sexual Orientation</td>\n",
       "      <td>NaN</td>\n",
       "      <td>Robbery</td>\n",
       "    </tr>\n",
       "    <tr>\n",
       "      <th>2</th>\n",
       "      <td>2012-01-13</td>\n",
       "      <td>1255-1258</td>\n",
       "      <td>2012-01-13</td>\n",
       "      <td>2012</td>\n",
       "      <td>1</td>\n",
       "      <td>12006285</td>\n",
       "      <td>4D</td>\n",
       "      <td>Park Rd NW and Sherman Ave NW</td>\n",
       "      <td>Race</td>\n",
       "      <td>Unspecified</td>\n",
       "      <td>Simple Assault</td>\n",
       "    </tr>\n",
       "    <tr>\n",
       "      <th>3</th>\n",
       "      <td>2012-01-14</td>\n",
       "      <td>0240-0250</td>\n",
       "      <td>2012-01-14</td>\n",
       "      <td>2012</td>\n",
       "      <td>1</td>\n",
       "      <td>12006716</td>\n",
       "      <td>3D</td>\n",
       "      <td>1800 block 14th St NW</td>\n",
       "      <td>Sexual Orientation</td>\n",
       "      <td>NaN</td>\n",
       "      <td>Simple Assault</td>\n",
       "    </tr>\n",
       "    <tr>\n",
       "      <th>4</th>\n",
       "      <td>2012-01-14</td>\n",
       "      <td>0431-0433</td>\n",
       "      <td>2012-01-14</td>\n",
       "      <td>2012</td>\n",
       "      <td>1</td>\n",
       "      <td>12006742</td>\n",
       "      <td>3D</td>\n",
       "      <td>18th St NW and Florida Ave NW</td>\n",
       "      <td>Ethnicity/National Origin</td>\n",
       "      <td>Arab/Middle Eastern</td>\n",
       "      <td>Simple Assault</td>\n",
       "    </tr>\n",
       "    <tr>\n",
       "      <th>5</th>\n",
       "      <td>2012-01-22</td>\n",
       "      <td>145</td>\n",
       "      <td>2012-01-22</td>\n",
       "      <td>2012</td>\n",
       "      <td>1</td>\n",
       "      <td>12010626</td>\n",
       "      <td>7D</td>\n",
       "      <td>1300 block Alabama Ave SE</td>\n",
       "      <td>Sexual Orientation</td>\n",
       "      <td>NaN</td>\n",
       "      <td>ADW</td>\n",
       "    </tr>\n",
       "    <tr>\n",
       "      <th>6</th>\n",
       "      <td>2012-01-22</td>\n",
       "      <td>1930</td>\n",
       "      <td>2012-01-22</td>\n",
       "      <td>2012</td>\n",
       "      <td>1</td>\n",
       "      <td>12010912</td>\n",
       "      <td>1D</td>\n",
       "      <td>600 block H St NW</td>\n",
       "      <td>Race</td>\n",
       "      <td>Asian</td>\n",
       "      <td>Threats</td>\n",
       "    </tr>\n",
       "    <tr>\n",
       "      <th>7</th>\n",
       "      <td>2012-02-06</td>\n",
       "      <td>1900</td>\n",
       "      <td>2012-02-06</td>\n",
       "      <td>2012</td>\n",
       "      <td>2</td>\n",
       "      <td>12018396</td>\n",
       "      <td>3D</td>\n",
       "      <td>1300 block Park Rd NW</td>\n",
       "      <td>Sexual Orientation</td>\n",
       "      <td>NaN</td>\n",
       "      <td>Simple Assault</td>\n",
       "    </tr>\n",
       "    <tr>\n",
       "      <th>8</th>\n",
       "      <td>2012-02-08</td>\n",
       "      <td>1200-1230</td>\n",
       "      <td>2012-02-09</td>\n",
       "      <td>2012</td>\n",
       "      <td>2</td>\n",
       "      <td>12019568</td>\n",
       "      <td>1D</td>\n",
       "      <td>400 block 3rd St SE</td>\n",
       "      <td>Race</td>\n",
       "      <td>Black</td>\n",
       "      <td>Threats</td>\n",
       "    </tr>\n",
       "    <tr>\n",
       "      <th>9</th>\n",
       "      <td>2012-02-14</td>\n",
       "      <td>0900-0915</td>\n",
       "      <td>2012-02-14</td>\n",
       "      <td>2012</td>\n",
       "      <td>2</td>\n",
       "      <td>12021883</td>\n",
       "      <td>1D</td>\n",
       "      <td>1400 block Independence Ave SW</td>\n",
       "      <td>Ethnicity/National Origin</td>\n",
       "      <td>Unspecified</td>\n",
       "      <td>Simple Assault</td>\n",
       "    </tr>\n",
       "  </tbody>\n",
       "</table>\n",
       "</div>"
      ],
      "text/plain": [
       "  Date of Offense Time of Offense Date Offense Reported  Report Year  Month  \\\n",
       "0      2012-01-08       1500-1505            2012-01-08         2012      1   \n",
       "1      2012-01-12            1722            2012-01-12         2012      1   \n",
       "2      2012-01-13       1255-1258            2012-01-13         2012      1   \n",
       "3      2012-01-14       0240-0250            2012-01-14         2012      1   \n",
       "4      2012-01-14       0431-0433            2012-01-14         2012      1   \n",
       "5      2012-01-22             145            2012-01-22         2012      1   \n",
       "6      2012-01-22            1930            2012-01-22         2012      1   \n",
       "7      2012-02-06            1900            2012-02-06         2012      2   \n",
       "8      2012-02-08       1200-1230            2012-02-09         2012      2   \n",
       "9      2012-02-14       0900-0915            2012-02-14         2012      2   \n",
       "\n",
       "        CCN District                  Block Location  \\\n",
       "0  12003845       3D          1600 block 17th St NW    \n",
       "1  12005834       1D           3rd St SW and K St SW   \n",
       "2  12006285       4D   Park Rd NW and Sherman Ave NW   \n",
       "3  12006716       3D           1800 block 14th St NW   \n",
       "4  12006742       3D   18th St NW and Florida Ave NW   \n",
       "5  12010626       7D       1300 block Alabama Ave SE   \n",
       "6  12010912       1D               600 block H St NW   \n",
       "7  12018396       3D           1300 block Park Rd NW   \n",
       "8  12019568       1D             400 block 3rd St SE   \n",
       "9  12021883       1D  1400 block Independence Ave SW   \n",
       "\n",
       "           Type of Hate Bias      Targeted Group  Top Offense Type  \n",
       "0         Sexual Orientation                  NaN          Threats  \n",
       "1         Sexual Orientation                  NaN          Robbery  \n",
       "2                       Race          Unspecified   Simple Assault  \n",
       "3         Sexual Orientation                  NaN   Simple Assault  \n",
       "4  Ethnicity/National Origin  Arab/Middle Eastern   Simple Assault  \n",
       "5         Sexual Orientation                  NaN              ADW  \n",
       "6                       Race                Asian          Threats  \n",
       "7         Sexual Orientation                  NaN   Simple Assault  \n",
       "8                       Race                Black          Threats  \n",
       "9  Ethnicity/National Origin          Unspecified   Simple Assault  "
      ]
     },
     "execution_count": 78,
     "metadata": {},
     "output_type": "execute_result"
    }
   ],
   "source": [
    "data = pd.read_excel('HateCrimesOpenData.xlsx')\n",
    "data.head(10)"
   ]
  },
  {
   "cell_type": "code",
   "execution_count": 79,
   "id": "171e7a64",
   "metadata": {},
   "outputs": [
    {
     "data": {
      "text/plain": [
       "(1758, 11)"
      ]
     },
     "execution_count": 79,
     "metadata": {},
     "output_type": "execute_result"
    }
   ],
   "source": [
    "data.shape"
   ]
  },
  {
   "cell_type": "code",
   "execution_count": 80,
   "id": "036b3ff3",
   "metadata": {},
   "outputs": [
    {
     "name": "stdout",
     "output_type": "stream",
     "text": [
      "Index(['Date of Offense', 'Time of Offense', 'Date Offense Reported',\n",
      "       'Report Year', 'Month', 'CCN', 'District', 'Block Location',\n",
      "       'Type of Hate Bias', 'Targeted Group ', 'Top Offense Type'],\n",
      "      dtype='object')\n"
     ]
    }
   ],
   "source": [
    "print(data.columns)"
   ]
  },
  {
   "cell_type": "code",
   "execution_count": 81,
   "id": "1b57ca86",
   "metadata": {},
   "outputs": [
    {
     "name": "stdout",
     "output_type": "stream",
     "text": [
      "<class 'pandas.core.frame.DataFrame'>\n",
      "RangeIndex: 1758 entries, 0 to 1757\n",
      "Data columns (total 11 columns):\n",
      " #   Column                 Non-Null Count  Dtype         \n",
      "---  ------                 --------------  -----         \n",
      " 0   Date of Offense        1758 non-null   datetime64[ns]\n",
      " 1   Time of Offense        1758 non-null   object        \n",
      " 2   Date Offense Reported  1758 non-null   datetime64[ns]\n",
      " 3   Report Year            1758 non-null   int64         \n",
      " 4   Month                  1758 non-null   int64         \n",
      " 5   CCN                    1758 non-null   int64         \n",
      " 6   District               1758 non-null   object        \n",
      " 7   Block Location         1758 non-null   object        \n",
      " 8   Type of Hate Bias      1758 non-null   object        \n",
      " 9   Targeted Group         905 non-null    object        \n",
      " 10  Top Offense Type       1754 non-null   object        \n",
      "dtypes: datetime64[ns](2), int64(3), object(6)\n",
      "memory usage: 151.2+ KB\n"
     ]
    }
   ],
   "source": [
    "data.info()"
   ]
  },
  {
   "cell_type": "code",
   "execution_count": 82,
   "id": "58488b78",
   "metadata": {},
   "outputs": [
    {
     "data": {
      "text/plain": [
       "Targeted Group           853\n",
       "Top Offense Type           4\n",
       "Date of Offense            0\n",
       "Time of Offense            0\n",
       "Date Offense Reported      0\n",
       "Report Year                0\n",
       "Month                      0\n",
       "CCN                        0\n",
       "District                   0\n",
       "Block Location             0\n",
       "Type of Hate Bias          0\n",
       "dtype: int64"
      ]
     },
     "execution_count": 82,
     "metadata": {},
     "output_type": "execute_result"
    }
   ],
   "source": [
    "data.isnull().sum().sort_values(ascending=False)"
   ]
  },
  {
   "cell_type": "code",
   "execution_count": 83,
   "id": "d2b33ebe",
   "metadata": {},
   "outputs": [
    {
     "data": {
      "text/plain": [
       "0"
      ]
     },
     "execution_count": 83,
     "metadata": {},
     "output_type": "execute_result"
    }
   ],
   "source": [
    "data.duplicated().sum()"
   ]
  },
  {
   "cell_type": "code",
   "execution_count": 84,
   "id": "144da6f0",
   "metadata": {},
   "outputs": [
    {
     "data": {
      "text/plain": [
       "Targeted Group \n",
       "Black                            239\n",
       "Jewish                           163\n",
       "White                            121\n",
       "Latino/Hispanic                   76\n",
       "Asian                             44\n",
       "Hispanic                          38\n",
       "Muslim                            27\n",
       "Chinese                           27\n",
       "Israeli                           21\n",
       "Arab/Middle Eastern               17\n",
       "Black/African                     17\n",
       "Unspecified                       15\n",
       "African                           14\n",
       "Middle Eastern                    12\n",
       "Mexican                           10\n",
       "Ethiopian                          7\n",
       "Palestinian                        6\n",
       "Female                             4\n",
       "Catholic                           4\n",
       "Non-European                       3\n",
       "ADW                                2\n",
       "Unknown                            2\n",
       "Russian                            2\n",
       "Christian                          2\n",
       "Indian                             2\n",
       "Colombian                          1\n",
       "Black; Jewish                      1\n",
       "Taiwanese                          1\n",
       "Jewish; Non-European               1\n",
       "Non-Palestinian                    1\n",
       "Muslim; Middle Eastern             1\n",
       "Oromo                              1\n",
       "Guatemalan                         1\n",
       "Indian; Middle Eastern             1\n",
       "Other                              1\n",
       "Puerto Rican                       1\n",
       "Black; Hispanic                    1\n",
       "Jewish; Hispanic                   1\n",
       "Hindu                              1\n",
       "Hispanic; Homelessness             1\n",
       "Ukrainian                          1\n",
       "Homicide                           1\n",
       "White; Jewish                      1\n",
       "Lebanese                           1\n",
       "Iranian                            1\n",
       "Turkish                            1\n",
       "Japanese                           1\n",
       "Other/Unknown Religion             1\n",
       "Pakistani                          1\n",
       "Multiple                           1\n",
       "Arab/Middle Eastern or Jewish      1\n",
       "Black                              1\n",
       "Black                              1\n",
       "Jamaican                           1\n",
       "Venezuelan                         1\n",
       "Name: count, dtype: int64"
      ]
     },
     "execution_count": 84,
     "metadata": {},
     "output_type": "execute_result"
    }
   ],
   "source": [
    "# Examine the Targeted Groups\n",
    "data['Targeted Group '].value_counts()"
   ]
  },
  {
   "cell_type": "code",
   "execution_count": 85,
   "id": "74030ed8",
   "metadata": {},
   "outputs": [],
   "source": [
    "data['Targeted Group '].fillna('No Targeted Group', inplace=True)"
   ]
  },
  {
   "cell_type": "code",
   "execution_count": 86,
   "id": "95a115bb",
   "metadata": {},
   "outputs": [],
   "source": [
    "data['Top Offense Type'].fillna('No Offense Indicated', inplace=True)"
   ]
  },
  {
   "cell_type": "code",
   "execution_count": 87,
   "id": "a8453eb3",
   "metadata": {},
   "outputs": [],
   "source": [
    "data['Top Offense Type'].replace('Damage/Defacing/Destruction of Property', 'Destruction of Property', inplace=True)"
   ]
  },
  {
   "cell_type": "code",
   "execution_count": 88,
   "id": "93d6dbe5",
   "metadata": {},
   "outputs": [
    {
     "data": {
      "text/plain": [
       "Date of Offense          0\n",
       "Time of Offense          0\n",
       "Date Offense Reported    0\n",
       "Report Year              0\n",
       "Month                    0\n",
       "CCN                      0\n",
       "District                 0\n",
       "Block Location           0\n",
       "Type of Hate Bias        0\n",
       "Targeted Group           0\n",
       "Top Offense Type         0\n",
       "dtype: int64"
      ]
     },
     "execution_count": 88,
     "metadata": {},
     "output_type": "execute_result"
    }
   ],
   "source": [
    "data.isnull().sum().sort_values(ascending=False)"
   ]
  },
  {
   "cell_type": "markdown",
   "id": "40c66871",
   "metadata": {},
   "source": [
    "# Clean Data\n",
    "\n",
    "Clean dataset to only show hate crimes where type is sexual orientiation and gender identity/expression and only show offenses that happened within the last 5 years (2020-2025)"
   ]
  },
  {
   "cell_type": "code",
   "execution_count": 89,
   "id": "f891f5f1",
   "metadata": {},
   "outputs": [
    {
     "name": "stdout",
     "output_type": "stream",
     "text": [
      "Number of incidents involving Sexual Orientation: 550\n",
      "Number of incidents involving Gender Identity/Expression: 246\n",
      "Total number of incidents involving Seuxal Orientation and Gender Identity/Expression: 796\n"
     ]
    }
   ],
   "source": [
    "# Count the number of incidents where 'Type of Hate Bias' = 'Sexual Orientation'\n",
    "sexualOrientationCount = (data['Type of Hate Bias'] == 'Sexual Orientation').sum()\n",
    "print(f\"Number of incidents involving Sexual Orientation: {sexualOrientationCount}\")\n",
    "\n",
    "# Count the number of incidents where 'Type of Hate Bias' = 'Gender Identity/Expression'\n",
    "genderIdentityCount = (data['Type of Hate Bias'] == 'Gender Identity/Expression').sum()\n",
    "print(f\"Number of incidents involving Gender Identity/Expression: {genderIdentityCount}\")\n",
    "\n",
    "totalCount = sexualOrientationCount + genderIdentityCount\n",
    "\n",
    "print(f\"Total number of incidents involving Seuxal Orientation and Gender Identity/Expression: {totalCount}\")"
   ]
  },
  {
   "cell_type": "code",
   "execution_count": 90,
   "id": "c8f56abc",
   "metadata": {},
   "outputs": [],
   "source": [
    "# Filter data for incidents involving Sexual Orientation or Gender Identity/Expression\n",
    "sexGen_data = data[data['Type of Hate Bias'].isin(['Sexual Orientation', 'Gender Identity/Expression'])]"
   ]
  },
  {
   "cell_type": "code",
   "execution_count": 91,
   "id": "c9840681",
   "metadata": {},
   "outputs": [
    {
     "name": "stdout",
     "output_type": "stream",
     "text": [
      "Date of the earliest incident:  2012-01-08 00:00:00\n",
      "Date of the latest incident:  2025-06-20 00:00:00\n"
     ]
    }
   ],
   "source": [
    "# Figure out the earliest and latest incident dates reported\n",
    "print(f\"Date of the earliest incident: \",data['Date of Offense'].min())\n",
    "print(f\"Date of the latest incident: \",data['Date of Offense'].max())"
   ]
  },
  {
   "cell_type": "code",
   "execution_count": 92,
   "id": "baa45cf9",
   "metadata": {},
   "outputs": [
    {
     "name": "stdout",
     "output_type": "stream",
     "text": [
      "2025\n",
      "2020\n"
     ]
    }
   ],
   "source": [
    "# Filter data for incidents within the last 5 years (2020-2025)\n",
    "current_year = pd.to_datetime('now').year\n",
    "print(current_year)\n",
    "\n",
    "start_year = current_year - 5\n",
    "print(start_year)\n"
   ]
  },
  {
   "cell_type": "code",
   "execution_count": 93,
   "id": "ec1a5412",
   "metadata": {},
   "outputs": [
    {
     "data": {
      "text/html": [
       "<div>\n",
       "<style scoped>\n",
       "    .dataframe tbody tr th:only-of-type {\n",
       "        vertical-align: middle;\n",
       "    }\n",
       "\n",
       "    .dataframe tbody tr th {\n",
       "        vertical-align: top;\n",
       "    }\n",
       "\n",
       "    .dataframe thead th {\n",
       "        text-align: right;\n",
       "    }\n",
       "</style>\n",
       "<table border=\"1\" class=\"dataframe\">\n",
       "  <thead>\n",
       "    <tr style=\"text-align: right;\">\n",
       "      <th></th>\n",
       "      <th>Date of Offense</th>\n",
       "      <th>Time of Offense</th>\n",
       "      <th>Date Offense Reported</th>\n",
       "      <th>Report Year</th>\n",
       "      <th>Month</th>\n",
       "      <th>CCN</th>\n",
       "      <th>District</th>\n",
       "      <th>Block Location</th>\n",
       "      <th>Type of Hate Bias</th>\n",
       "      <th>Targeted Group</th>\n",
       "      <th>Top Offense Type</th>\n",
       "    </tr>\n",
       "  </thead>\n",
       "  <tbody>\n",
       "    <tr>\n",
       "      <th>977</th>\n",
       "      <td>2020-01-03</td>\n",
       "      <td>2320</td>\n",
       "      <td>2020-01-04</td>\n",
       "      <td>2020</td>\n",
       "      <td>1</td>\n",
       "      <td>20001974</td>\n",
       "      <td>4D</td>\n",
       "      <td>800 block Upshur St NW</td>\n",
       "      <td>Sexual Orientation</td>\n",
       "      <td>No Targeted Group</td>\n",
       "      <td>Stalking</td>\n",
       "    </tr>\n",
       "    <tr>\n",
       "      <th>978</th>\n",
       "      <td>2020-01-06</td>\n",
       "      <td>1050</td>\n",
       "      <td>2020-01-06</td>\n",
       "      <td>2020</td>\n",
       "      <td>1</td>\n",
       "      <td>20003221</td>\n",
       "      <td>4D</td>\n",
       "      <td>1200 block Taylor St NW</td>\n",
       "      <td>Sexual Orientation</td>\n",
       "      <td>No Targeted Group</td>\n",
       "      <td>Simple Assault</td>\n",
       "    </tr>\n",
       "    <tr>\n",
       "      <th>980</th>\n",
       "      <td>2020-01-12</td>\n",
       "      <td>144</td>\n",
       "      <td>2020-01-12</td>\n",
       "      <td>2020</td>\n",
       "      <td>1</td>\n",
       "      <td>20006772</td>\n",
       "      <td>2D</td>\n",
       "      <td>1400 block 14th St NW</td>\n",
       "      <td>Sexual Orientation</td>\n",
       "      <td>No Targeted Group</td>\n",
       "      <td>Simple Assault</td>\n",
       "    </tr>\n",
       "    <tr>\n",
       "      <th>984</th>\n",
       "      <td>2020-01-28</td>\n",
       "      <td>2341</td>\n",
       "      <td>2020-01-29</td>\n",
       "      <td>2020</td>\n",
       "      <td>1</td>\n",
       "      <td>20017231</td>\n",
       "      <td>4D</td>\n",
       "      <td>800 block Upshur St NW</td>\n",
       "      <td>Sexual Orientation</td>\n",
       "      <td>No Targeted Group</td>\n",
       "      <td>Stalking</td>\n",
       "    </tr>\n",
       "    <tr>\n",
       "      <th>985</th>\n",
       "      <td>2020-01-30</td>\n",
       "      <td>1534</td>\n",
       "      <td>2020-01-30</td>\n",
       "      <td>2020</td>\n",
       "      <td>1</td>\n",
       "      <td>20018329</td>\n",
       "      <td>7D</td>\n",
       "      <td>2000 block Tremont St SE</td>\n",
       "      <td>Gender Identity/Expression</td>\n",
       "      <td>No Targeted Group</td>\n",
       "      <td>Simple Assault</td>\n",
       "    </tr>\n",
       "    <tr>\n",
       "      <th>...</th>\n",
       "      <td>...</td>\n",
       "      <td>...</td>\n",
       "      <td>...</td>\n",
       "      <td>...</td>\n",
       "      <td>...</td>\n",
       "      <td>...</td>\n",
       "      <td>...</td>\n",
       "      <td>...</td>\n",
       "      <td>...</td>\n",
       "      <td>...</td>\n",
       "      <td>...</td>\n",
       "    </tr>\n",
       "    <tr>\n",
       "      <th>1750</th>\n",
       "      <td>2025-06-09</td>\n",
       "      <td>1245</td>\n",
       "      <td>2025-06-09</td>\n",
       "      <td>2025</td>\n",
       "      <td>6</td>\n",
       "      <td>25084505</td>\n",
       "      <td>5D</td>\n",
       "      <td>400 block of 20th St NE</td>\n",
       "      <td>Sexual Orientation</td>\n",
       "      <td>No Targeted Group</td>\n",
       "      <td>ADW</td>\n",
       "    </tr>\n",
       "    <tr>\n",
       "      <th>1752</th>\n",
       "      <td>2025-06-13</td>\n",
       "      <td>1417</td>\n",
       "      <td>2025-06-13</td>\n",
       "      <td>2025</td>\n",
       "      <td>6</td>\n",
       "      <td>25088537</td>\n",
       "      <td>3D</td>\n",
       "      <td>2000 block of Georgia Ave NW</td>\n",
       "      <td>Sexual Orientation</td>\n",
       "      <td>No Targeted Group</td>\n",
       "      <td>Simple Assault</td>\n",
       "    </tr>\n",
       "    <tr>\n",
       "      <th>1754</th>\n",
       "      <td>2025-06-14</td>\n",
       "      <td>2013</td>\n",
       "      <td>2025-06-14</td>\n",
       "      <td>2025</td>\n",
       "      <td>6</td>\n",
       "      <td>25089527</td>\n",
       "      <td>3D</td>\n",
       "      <td>900 block of Florida Ave NW</td>\n",
       "      <td>Sexual Orientation</td>\n",
       "      <td>No Targeted Group</td>\n",
       "      <td>Simple Assault</td>\n",
       "    </tr>\n",
       "    <tr>\n",
       "      <th>1755</th>\n",
       "      <td>2025-06-15</td>\n",
       "      <td>1740</td>\n",
       "      <td>2025-06-15</td>\n",
       "      <td>2025</td>\n",
       "      <td>6</td>\n",
       "      <td>25089675</td>\n",
       "      <td>5D</td>\n",
       "      <td>2000 block of C St NE</td>\n",
       "      <td>Sexual Orientation</td>\n",
       "      <td>No Targeted Group</td>\n",
       "      <td>Simple Assault</td>\n",
       "    </tr>\n",
       "    <tr>\n",
       "      <th>1756</th>\n",
       "      <td>2025-06-18</td>\n",
       "      <td>2108</td>\n",
       "      <td>2025-06-18</td>\n",
       "      <td>2025</td>\n",
       "      <td>6</td>\n",
       "      <td>25091494</td>\n",
       "      <td>3D</td>\n",
       "      <td>1000 block of U St NW</td>\n",
       "      <td>Sexual Orientation</td>\n",
       "      <td>No Targeted Group</td>\n",
       "      <td>Simple Assault</td>\n",
       "    </tr>\n",
       "  </tbody>\n",
       "</table>\n",
       "<p>311 rows × 11 columns</p>\n",
       "</div>"
      ],
      "text/plain": [
       "     Date of Offense Time of Offense Date Offense Reported  Report Year  \\\n",
       "977       2020-01-03            2320            2020-01-04         2020   \n",
       "978       2020-01-06            1050            2020-01-06         2020   \n",
       "980       2020-01-12             144            2020-01-12         2020   \n",
       "984       2020-01-28            2341            2020-01-29         2020   \n",
       "985       2020-01-30            1534            2020-01-30         2020   \n",
       "...              ...             ...                   ...          ...   \n",
       "1750      2025-06-09            1245            2025-06-09         2025   \n",
       "1752      2025-06-13            1417            2025-06-13         2025   \n",
       "1754      2025-06-14            2013            2025-06-14         2025   \n",
       "1755      2025-06-15            1740            2025-06-15         2025   \n",
       "1756      2025-06-18            2108            2025-06-18         2025   \n",
       "\n",
       "      Month       CCN District                Block Location  \\\n",
       "977       1  20001974       4D        800 block Upshur St NW   \n",
       "978       1  20003221       4D       1200 block Taylor St NW   \n",
       "980       1  20006772       2D         1400 block 14th St NW   \n",
       "984       1  20017231       4D        800 block Upshur St NW   \n",
       "985       1  20018329       7D      2000 block Tremont St SE   \n",
       "...     ...       ...      ...                           ...   \n",
       "1750      6  25084505       5D       400 block of 20th St NE   \n",
       "1752      6  25088537       3D  2000 block of Georgia Ave NW   \n",
       "1754      6  25089527       3D   900 block of Florida Ave NW   \n",
       "1755      6  25089675       5D         2000 block of C St NE   \n",
       "1756      6  25091494       3D         1000 block of U St NW   \n",
       "\n",
       "               Type of Hate Bias    Targeted Group  Top Offense Type  \n",
       "977           Sexual Orientation  No Targeted Group         Stalking  \n",
       "978           Sexual Orientation  No Targeted Group   Simple Assault  \n",
       "980           Sexual Orientation  No Targeted Group   Simple Assault  \n",
       "984           Sexual Orientation  No Targeted Group         Stalking  \n",
       "985   Gender Identity/Expression  No Targeted Group   Simple Assault  \n",
       "...                          ...                ...              ...  \n",
       "1750          Sexual Orientation  No Targeted Group              ADW  \n",
       "1752          Sexual Orientation  No Targeted Group   Simple Assault  \n",
       "1754          Sexual Orientation  No Targeted Group   Simple Assault  \n",
       "1755          Sexual Orientation  No Targeted Group   Simple Assault  \n",
       "1756          Sexual Orientation  No Targeted Group   Simple Assault  \n",
       "\n",
       "[311 rows x 11 columns]"
      ]
     },
     "execution_count": 93,
     "metadata": {},
     "output_type": "execute_result"
    }
   ],
   "source": [
    "# Filter incidents that occurred within the last 5 years\n",
    "filteredIncidents = sexGen_data[(sexGen_data['Date of Offense'].dt.year >= start_year) & \n",
    "                               (sexGen_data['Date of Offense'].dt.year <= current_year)]\n",
    "\n",
    "#Check our data\n",
    "filteredIncidents.sort_values(by='Date of Offense', ascending=True)"
   ]
  },
  {
   "cell_type": "code",
   "execution_count": 94,
   "id": "adf65c27",
   "metadata": {},
   "outputs": [
    {
     "name": "stdout",
     "output_type": "stream",
     "text": [
      "Top Offense Type\n",
      "Simple Assault                          330\n",
      "Threats                                 203\n",
      "ADW                                     122\n",
      "Destruction of Property                  57\n",
      "Robbery                                  50\n",
      "Stalking                                  7\n",
      "Sexual Assault                            3\n",
      "Sex Abuse                                 3\n",
      "Threats to do Bodily Harm                 3\n",
      "Sexual Abuse                              3\n",
      "Threats to Kidnap or Injure a Person      2\n",
      "Deface Private/Public Property            2\n",
      "Affrays                                   1\n",
      "Cruelty to Children                       1\n",
      "Aggravated Assault                        1\n",
      "Assault w/Significant Bodily Injury       1\n",
      "No Offense Indicated                      1\n",
      "Violation of CPO                          1\n",
      "Leaving After Colliding                   1\n",
      "Voyeurism                                 1\n",
      "Theft                                     1\n",
      "Other Crimes                              1\n",
      "Burglary                                  1\n",
      "Name: count, dtype: int64\n"
     ]
    }
   ],
   "source": [
    "# Group by 'Top Offense Type'\n",
    "offense_counts = sexGen_data['Top Offense Type'].value_counts()\n",
    "print(offense_counts)"
   ]
  },
  {
   "cell_type": "code",
   "execution_count": 95,
   "id": "ed1b48e3",
   "metadata": {},
   "outputs": [],
   "source": [
    "# Drop Columns: Month, CCN, District, Block Location\n",
    "filteredIncidents = filteredIncidents.drop(columns=['Month', 'CCN', 'District', 'Block Location', 'Time of Offense'])"
   ]
  },
  {
   "cell_type": "code",
   "execution_count": 96,
   "id": "aff3fe37",
   "metadata": {},
   "outputs": [
    {
     "data": {
      "text/html": [
       "<div>\n",
       "<style scoped>\n",
       "    .dataframe tbody tr th:only-of-type {\n",
       "        vertical-align: middle;\n",
       "    }\n",
       "\n",
       "    .dataframe tbody tr th {\n",
       "        vertical-align: top;\n",
       "    }\n",
       "\n",
       "    .dataframe thead th {\n",
       "        text-align: right;\n",
       "    }\n",
       "</style>\n",
       "<table border=\"1\" class=\"dataframe\">\n",
       "  <thead>\n",
       "    <tr style=\"text-align: right;\">\n",
       "      <th></th>\n",
       "      <th>Date of Offense</th>\n",
       "      <th>Date Offense Reported</th>\n",
       "      <th>Report Year</th>\n",
       "      <th>Type of Hate Bias</th>\n",
       "      <th>Targeted Group</th>\n",
       "      <th>Top Offense Type</th>\n",
       "    </tr>\n",
       "  </thead>\n",
       "  <tbody>\n",
       "    <tr>\n",
       "      <th>977</th>\n",
       "      <td>2020-01-03</td>\n",
       "      <td>2020-01-04</td>\n",
       "      <td>2020</td>\n",
       "      <td>Sexual Orientation</td>\n",
       "      <td>No Targeted Group</td>\n",
       "      <td>Stalking</td>\n",
       "    </tr>\n",
       "    <tr>\n",
       "      <th>978</th>\n",
       "      <td>2020-01-06</td>\n",
       "      <td>2020-01-06</td>\n",
       "      <td>2020</td>\n",
       "      <td>Sexual Orientation</td>\n",
       "      <td>No Targeted Group</td>\n",
       "      <td>Simple Assault</td>\n",
       "    </tr>\n",
       "    <tr>\n",
       "      <th>980</th>\n",
       "      <td>2020-01-12</td>\n",
       "      <td>2020-01-12</td>\n",
       "      <td>2020</td>\n",
       "      <td>Sexual Orientation</td>\n",
       "      <td>No Targeted Group</td>\n",
       "      <td>Simple Assault</td>\n",
       "    </tr>\n",
       "    <tr>\n",
       "      <th>984</th>\n",
       "      <td>2020-01-28</td>\n",
       "      <td>2020-01-29</td>\n",
       "      <td>2020</td>\n",
       "      <td>Sexual Orientation</td>\n",
       "      <td>No Targeted Group</td>\n",
       "      <td>Stalking</td>\n",
       "    </tr>\n",
       "    <tr>\n",
       "      <th>985</th>\n",
       "      <td>2020-01-30</td>\n",
       "      <td>2020-01-30</td>\n",
       "      <td>2020</td>\n",
       "      <td>Gender Identity/Expression</td>\n",
       "      <td>No Targeted Group</td>\n",
       "      <td>Simple Assault</td>\n",
       "    </tr>\n",
       "    <tr>\n",
       "      <th>986</th>\n",
       "      <td>2020-01-31</td>\n",
       "      <td>2020-01-31</td>\n",
       "      <td>2020</td>\n",
       "      <td>Sexual Orientation</td>\n",
       "      <td>No Targeted Group</td>\n",
       "      <td>Stalking</td>\n",
       "    </tr>\n",
       "    <tr>\n",
       "      <th>987</th>\n",
       "      <td>2020-02-01</td>\n",
       "      <td>2020-02-02</td>\n",
       "      <td>2020</td>\n",
       "      <td>Gender Identity/Expression</td>\n",
       "      <td>No Targeted Group</td>\n",
       "      <td>Simple Assault</td>\n",
       "    </tr>\n",
       "    <tr>\n",
       "      <th>989</th>\n",
       "      <td>2020-02-06</td>\n",
       "      <td>2020-02-06</td>\n",
       "      <td>2020</td>\n",
       "      <td>Sexual Orientation</td>\n",
       "      <td>No Targeted Group</td>\n",
       "      <td>Threats</td>\n",
       "    </tr>\n",
       "    <tr>\n",
       "      <th>991</th>\n",
       "      <td>2020-02-09</td>\n",
       "      <td>2020-02-09</td>\n",
       "      <td>2020</td>\n",
       "      <td>Gender Identity/Expression</td>\n",
       "      <td>No Targeted Group</td>\n",
       "      <td>Threats</td>\n",
       "    </tr>\n",
       "    <tr>\n",
       "      <th>993</th>\n",
       "      <td>2020-02-21</td>\n",
       "      <td>2020-02-21</td>\n",
       "      <td>2020</td>\n",
       "      <td>Sexual Orientation</td>\n",
       "      <td>No Targeted Group</td>\n",
       "      <td>ADW</td>\n",
       "    </tr>\n",
       "  </tbody>\n",
       "</table>\n",
       "</div>"
      ],
      "text/plain": [
       "    Date of Offense Date Offense Reported  Report Year  \\\n",
       "977      2020-01-03            2020-01-04         2020   \n",
       "978      2020-01-06            2020-01-06         2020   \n",
       "980      2020-01-12            2020-01-12         2020   \n",
       "984      2020-01-28            2020-01-29         2020   \n",
       "985      2020-01-30            2020-01-30         2020   \n",
       "986      2020-01-31            2020-01-31         2020   \n",
       "987      2020-02-01            2020-02-02         2020   \n",
       "989      2020-02-06            2020-02-06         2020   \n",
       "991      2020-02-09            2020-02-09         2020   \n",
       "993      2020-02-21            2020-02-21         2020   \n",
       "\n",
       "              Type of Hate Bias    Targeted Group  Top Offense Type  \n",
       "977          Sexual Orientation  No Targeted Group         Stalking  \n",
       "978          Sexual Orientation  No Targeted Group   Simple Assault  \n",
       "980          Sexual Orientation  No Targeted Group   Simple Assault  \n",
       "984          Sexual Orientation  No Targeted Group         Stalking  \n",
       "985  Gender Identity/Expression  No Targeted Group   Simple Assault  \n",
       "986          Sexual Orientation  No Targeted Group         Stalking  \n",
       "987  Gender Identity/Expression  No Targeted Group   Simple Assault  \n",
       "989          Sexual Orientation  No Targeted Group          Threats  \n",
       "991  Gender Identity/Expression  No Targeted Group          Threats  \n",
       "993          Sexual Orientation  No Targeted Group              ADW  "
      ]
     },
     "execution_count": 96,
     "metadata": {},
     "output_type": "execute_result"
    }
   ],
   "source": [
    "filteredIncidents.head(10)"
   ]
  },
  {
   "cell_type": "code",
   "execution_count": 97,
   "id": "2f9b2313",
   "metadata": {},
   "outputs": [],
   "source": [
    "# Reset index for filtered incidents\n",
    "filteredIncidents.reset_index(drop=True, inplace=True)"
   ]
  },
  {
   "cell_type": "code",
   "execution_count": 98,
   "id": "8a21250e",
   "metadata": {},
   "outputs": [
    {
     "data": {
      "text/html": [
       "<div>\n",
       "<style scoped>\n",
       "    .dataframe tbody tr th:only-of-type {\n",
       "        vertical-align: middle;\n",
       "    }\n",
       "\n",
       "    .dataframe tbody tr th {\n",
       "        vertical-align: top;\n",
       "    }\n",
       "\n",
       "    .dataframe thead th {\n",
       "        text-align: right;\n",
       "    }\n",
       "</style>\n",
       "<table border=\"1\" class=\"dataframe\">\n",
       "  <thead>\n",
       "    <tr style=\"text-align: right;\">\n",
       "      <th></th>\n",
       "      <th>Date of Offense</th>\n",
       "      <th>Date Offense Reported</th>\n",
       "      <th>Report Year</th>\n",
       "      <th>Type of Hate Bias</th>\n",
       "      <th>Targeted Group</th>\n",
       "      <th>Top Offense Type</th>\n",
       "    </tr>\n",
       "  </thead>\n",
       "  <tbody>\n",
       "    <tr>\n",
       "      <th>0</th>\n",
       "      <td>2020-01-03</td>\n",
       "      <td>2020-01-04</td>\n",
       "      <td>2020</td>\n",
       "      <td>Sexual Orientation</td>\n",
       "      <td>No Targeted Group</td>\n",
       "      <td>Stalking</td>\n",
       "    </tr>\n",
       "    <tr>\n",
       "      <th>1</th>\n",
       "      <td>2020-01-06</td>\n",
       "      <td>2020-01-06</td>\n",
       "      <td>2020</td>\n",
       "      <td>Sexual Orientation</td>\n",
       "      <td>No Targeted Group</td>\n",
       "      <td>Simple Assault</td>\n",
       "    </tr>\n",
       "    <tr>\n",
       "      <th>2</th>\n",
       "      <td>2020-01-12</td>\n",
       "      <td>2020-01-12</td>\n",
       "      <td>2020</td>\n",
       "      <td>Sexual Orientation</td>\n",
       "      <td>No Targeted Group</td>\n",
       "      <td>Simple Assault</td>\n",
       "    </tr>\n",
       "    <tr>\n",
       "      <th>3</th>\n",
       "      <td>2020-01-28</td>\n",
       "      <td>2020-01-29</td>\n",
       "      <td>2020</td>\n",
       "      <td>Sexual Orientation</td>\n",
       "      <td>No Targeted Group</td>\n",
       "      <td>Stalking</td>\n",
       "    </tr>\n",
       "    <tr>\n",
       "      <th>4</th>\n",
       "      <td>2020-01-30</td>\n",
       "      <td>2020-01-30</td>\n",
       "      <td>2020</td>\n",
       "      <td>Gender Identity/Expression</td>\n",
       "      <td>No Targeted Group</td>\n",
       "      <td>Simple Assault</td>\n",
       "    </tr>\n",
       "    <tr>\n",
       "      <th>5</th>\n",
       "      <td>2020-01-31</td>\n",
       "      <td>2020-01-31</td>\n",
       "      <td>2020</td>\n",
       "      <td>Sexual Orientation</td>\n",
       "      <td>No Targeted Group</td>\n",
       "      <td>Stalking</td>\n",
       "    </tr>\n",
       "    <tr>\n",
       "      <th>6</th>\n",
       "      <td>2020-02-01</td>\n",
       "      <td>2020-02-02</td>\n",
       "      <td>2020</td>\n",
       "      <td>Gender Identity/Expression</td>\n",
       "      <td>No Targeted Group</td>\n",
       "      <td>Simple Assault</td>\n",
       "    </tr>\n",
       "    <tr>\n",
       "      <th>7</th>\n",
       "      <td>2020-02-06</td>\n",
       "      <td>2020-02-06</td>\n",
       "      <td>2020</td>\n",
       "      <td>Sexual Orientation</td>\n",
       "      <td>No Targeted Group</td>\n",
       "      <td>Threats</td>\n",
       "    </tr>\n",
       "    <tr>\n",
       "      <th>8</th>\n",
       "      <td>2020-02-09</td>\n",
       "      <td>2020-02-09</td>\n",
       "      <td>2020</td>\n",
       "      <td>Gender Identity/Expression</td>\n",
       "      <td>No Targeted Group</td>\n",
       "      <td>Threats</td>\n",
       "    </tr>\n",
       "    <tr>\n",
       "      <th>9</th>\n",
       "      <td>2020-02-21</td>\n",
       "      <td>2020-02-21</td>\n",
       "      <td>2020</td>\n",
       "      <td>Sexual Orientation</td>\n",
       "      <td>No Targeted Group</td>\n",
       "      <td>ADW</td>\n",
       "    </tr>\n",
       "  </tbody>\n",
       "</table>\n",
       "</div>"
      ],
      "text/plain": [
       "  Date of Offense Date Offense Reported  Report Year  \\\n",
       "0      2020-01-03            2020-01-04         2020   \n",
       "1      2020-01-06            2020-01-06         2020   \n",
       "2      2020-01-12            2020-01-12         2020   \n",
       "3      2020-01-28            2020-01-29         2020   \n",
       "4      2020-01-30            2020-01-30         2020   \n",
       "5      2020-01-31            2020-01-31         2020   \n",
       "6      2020-02-01            2020-02-02         2020   \n",
       "7      2020-02-06            2020-02-06         2020   \n",
       "8      2020-02-09            2020-02-09         2020   \n",
       "9      2020-02-21            2020-02-21         2020   \n",
       "\n",
       "            Type of Hate Bias    Targeted Group  Top Offense Type  \n",
       "0          Sexual Orientation  No Targeted Group         Stalking  \n",
       "1          Sexual Orientation  No Targeted Group   Simple Assault  \n",
       "2          Sexual Orientation  No Targeted Group   Simple Assault  \n",
       "3          Sexual Orientation  No Targeted Group         Stalking  \n",
       "4  Gender Identity/Expression  No Targeted Group   Simple Assault  \n",
       "5          Sexual Orientation  No Targeted Group         Stalking  \n",
       "6  Gender Identity/Expression  No Targeted Group   Simple Assault  \n",
       "7          Sexual Orientation  No Targeted Group          Threats  \n",
       "8  Gender Identity/Expression  No Targeted Group          Threats  \n",
       "9          Sexual Orientation  No Targeted Group              ADW  "
      ]
     },
     "execution_count": 98,
     "metadata": {},
     "output_type": "execute_result"
    }
   ],
   "source": [
    "filteredIncidents.head(10)"
   ]
  },
  {
   "cell_type": "code",
   "execution_count": 99,
   "id": "5812060b",
   "metadata": {},
   "outputs": [
    {
     "name": "stdout",
     "output_type": "stream",
     "text": [
      "<class 'pandas.core.frame.DataFrame'>\n",
      "RangeIndex: 311 entries, 0 to 310\n",
      "Data columns (total 6 columns):\n",
      " #   Column                 Non-Null Count  Dtype         \n",
      "---  ------                 --------------  -----         \n",
      " 0   Date of Offense        311 non-null    datetime64[ns]\n",
      " 1   Date Offense Reported  311 non-null    datetime64[ns]\n",
      " 2   Report Year            311 non-null    int64         \n",
      " 3   Type of Hate Bias      311 non-null    object        \n",
      " 4   Targeted Group         311 non-null    object        \n",
      " 5   Top Offense Type       311 non-null    object        \n",
      "dtypes: datetime64[ns](2), int64(1), object(3)\n",
      "memory usage: 14.7+ KB\n"
     ]
    }
   ],
   "source": [
    "filteredIncidents.info()"
   ]
  },
  {
   "cell_type": "code",
   "execution_count": 118,
   "id": "b69ac595",
   "metadata": {},
   "outputs": [
    {
     "data": {
      "image/png": "[encoded data removed]",
      "text/plain": [
       "<Figure size 800x500 with 1 Axes>"
      ]
     },
     "metadata": {},
     "output_type": "display_data"
    }
   ],
   "source": [
    "yearly_count = filteredIncidents.groupby('Report Year').size()\n",
    "plt.figure(figsize=(8, 5))\n",
    "plt.plot(yearly_count.index, yearly_count.values, marker='o')\n",
    "plt.title('Number of Hate Crime Incidents by Year (2020-2025)')\n",
    "plt.xlabel('Year')\n",
    "plt.ylabel('# of Incidents')\n",
    "plt.grid(True)\n",
    "plt.tight_layout()\n",
    "plt.show()"
   ]
  },
  {
   "cell_type": "code",
   "execution_count": 119,
   "id": "6fc0f4fc",
   "metadata": {},
   "outputs": [
    {
     "name": "stderr",
     "output_type": "stream",
     "text": [
      "/opt/anaconda3/lib/python3.11/site-packages/seaborn/_oldcore.py:1119: FutureWarning: use_inf_as_na option is deprecated and will be removed in a future version. Convert inf values to NaN before operating instead.\n",
      "  with pd.option_context('mode.use_inf_as_na', True):\n"
     ]
    },
    {
     "data": {
      "image/png": "[encoded data removed]",
      "text/plain": [
       "<Figure size 640x480 with 1 Axes>"
      ]
     },
     "metadata": {},
     "output_type": "display_data"
    }
   ],
   "source": [
    "top5 = filteredIncidents['Top Offense Type'].value_counts().nlargest(5).index\n",
    "sns.histplot(filteredIncidents[filteredIncidents['Top Offense Type'].isin(top5)]['Top Offense Type'])\n",
    "plt.title('Top 5 Offense Types (2020-2025)')\n",
    "plt.xlabel('Top Offense Type')\n",
    "plt.ylabel('# of Incidents')\n",
    "plt.xticks(rotation=45)\n",
    "plt.tight_layout()\n",
    "plt.show()"
   ]
  },
  {
   "cell_type": "code",
   "execution_count": 124,
   "id": "5bc54656",
   "metadata": {},
   "outputs": [
    {
     "data": {
      "image/png": "[encoded data removed]",
      "text/plain": [
       "<Figure size 800x500 with 1 Axes>"
      ]
     },
     "metadata": {},
     "output_type": "display_data"
    }
   ],
   "source": [
    "# Group by 'Report Year' and 'Type of Hate Bias', then count incidents\n",
    "bias_year_counts = filteredIncidents.groupby(['Report Year', 'Type of Hate Bias']).size().unstack(fill_value=0)\n",
    "\n",
    "# Plot the over time for each hate bias\n",
    "bias_year_counts.plot(kind='line', marker='o', figsize=(8, 5))\n",
    "plt.title('Number of Hate Crime Incidents by Bias Over Time (2020-2025)')\n",
    "plt.xlabel('Year')\n",
    "plt.ylabel('# of Incidents')\n",
    "plt.legend(title='Type of Hate Bias')\n",
    "plt.grid(True)\n",
    "plt.tight_layout()\n",
    "plt.show()"
   ]
  },
  {
   "cell_type": "code",
   "execution_count": null,
   "id": "6aeb6fef",
   "metadata": {},
   "outputs": [
    {
     "name": "stderr",
     "output_type": "stream",
     "text": [
      "/opt/anaconda3/lib/python3.11/site-packages/seaborn/_oldcore.py:1119: FutureWarning: use_inf_as_na option is deprecated and will be removed in a future version. Convert inf values to NaN before operating instead.\n",
      "  with pd.option_context('mode.use_inf_as_na', True):\n"
     ]
    },
    {
     "data": {
      "image/png": "[encoded data removed]",
      "text/plain": [
       "<Figure size 738.625x500 with 1 Axes>"
      ]
     },
     "metadata": {},
     "output_type": "display_data"
    }
   ],
   "source": [
    "# Plot the top 5 offense types by hate bias\n",
    "sns.displot(data=filteredIncidents[filteredIncidents['Top Offense Type'].isin(top5)],\n",
    "    x='Top Offense Type',\n",
    "    hue='Type of Hate Bias',\n",
    "    multiple='stack'\n",
    ")\n",
    "plt.title('Top 5 Offense Types by Hate Bias (2020-2025)')\n",
    "plt.xlabel('Top Offense Type')\n",
    "plt.ylabel('# of Incidents')\n",
    "plt.xticks(rotation=45)\n",
    "#plt.tight_layout()\n",
    "plt.show()"
   ]
  }
 ],
 "metadata": {
  "kernelspec": {
   "display_name": "base",
   "language": "python",
   "name": "python3"
  },
  "language_info": {
   "codemirror_mode": {
    "name": "ipython",
    "version": 3
   },
   "file_extension": ".py",
   "mimetype": "text/x-python",
   "name": "python",
   "nbconvert_exporter": "python",
   "pygments_lexer": "ipython3",
   "version": "3.11.7"
  }
 },
 "nbformat": 4,
 "nbformat_minor": 5
}
