{
 "cells": [
  {
   "cell_type": "markdown",
   "id": "c920b5d3",
   "metadata": {},
   "source": [
    "# Hate Crime Analysis - DC"
   ]
  },
  {
   "cell_type": "markdown",
   "id": "b47f2a4d",
   "metadata": {},
   "source": [
    "Investigate the hate crime rate of incidents involving Sexual Orientation & Gender Identity"
   ]
  },
  {
   "cell_type": "code",
   "execution_count": 54,
   "id": "4ed33f29",
   "metadata": {},
   "outputs": [],
   "source": [
    "import pandas as pd\n",
    "import numpy as np"
   ]
  },
  {
   "cell_type": "markdown",
   "id": "b0d67e10",
   "metadata": {},
   "source": [
    "## Examining Data"
   ]
  },
  {
   "cell_type": "code",
   "execution_count": 55,
   "id": "b90bea1e",
   "metadata": {},
   "outputs": [
    {
     "data": {
      "text/html": [
       "<div>\n",
       "<style scoped>\n",
       "    .dataframe tbody tr th:only-of-type {\n",
       "        vertical-align: middle;\n",
       "    }\n",
       "\n",
       "    .dataframe tbody tr th {\n",
       "        vertical-align: top;\n",
       "    }\n",
       "\n",
       "    .dataframe thead th {\n",
       "        text-align: right;\n",
       "    }\n",
       "</style>\n",
       "<table border=\"1\" class=\"dataframe\">\n",
       "  <thead>\n",
       "    <tr style=\"text-align: right;\">\n",
       "      <th></th>\n",
       "      <th>Date of Offense</th>\n",
       "      <th>Time of Offense</th>\n",
       "      <th>Date Offense Reported</th>\n",
       "      <th>Report Year</th>\n",
       "      <th>Month</th>\n",
       "      <th>CCN</th>\n",
       "      <th>District</th>\n",
       "      <th>Block Location</th>\n",
       "      <th>Type of Hate Bias</th>\n",
       "      <th>Targeted Group</th>\n",
       "      <th>Top Offense Type</th>\n",
       "    </tr>\n",
       "  </thead>\n",
       "  <tbody>\n",
       "    <tr>\n",
       "      <th>0</th>\n",
       "      <td>2012-01-08</td>\n",
       "      <td>1500-1505</td>\n",
       "      <td>2012-01-08</td>\n",
       "      <td>2012</td>\n",
       "      <td>1</td>\n",
       "      <td>12003845</td>\n",
       "      <td>3D</td>\n",
       "      <td>1600 block 17th St NW</td>\n",
       "      <td>Sexual Orientation</td>\n",
       "      <td>NaN</td>\n",
       "      <td>Threats</td>\n",
       "    </tr>\n",
       "    <tr>\n",
       "      <th>1</th>\n",
       "      <td>2012-01-12</td>\n",
       "      <td>1722</td>\n",
       "      <td>2012-01-12</td>\n",
       "      <td>2012</td>\n",
       "      <td>1</td>\n",
       "      <td>12005834</td>\n",
       "      <td>1D</td>\n",
       "      <td>3rd St SW and K St SW</td>\n",
       "      <td>Sexual Orientation</td>\n",
       "      <td>NaN</td>\n",
       "      <td>Robbery</td>\n",
       "    </tr>\n",
       "    <tr>\n",
       "      <th>2</th>\n",
       "      <td>2012-01-13</td>\n",
       "      <td>1255-1258</td>\n",
       "      <td>2012-01-13</td>\n",
       "      <td>2012</td>\n",
       "      <td>1</td>\n",
       "      <td>12006285</td>\n",
       "      <td>4D</td>\n",
       "      <td>Park Rd NW and Sherman Ave NW</td>\n",
       "      <td>Race</td>\n",
       "      <td>Unspecified</td>\n",
       "      <td>Simple Assault</td>\n",
       "    </tr>\n",
       "    <tr>\n",
       "      <th>3</th>\n",
       "      <td>2012-01-14</td>\n",
       "      <td>0240-0250</td>\n",
       "      <td>2012-01-14</td>\n",
       "      <td>2012</td>\n",
       "      <td>1</td>\n",
       "      <td>12006716</td>\n",
       "      <td>3D</td>\n",
       "      <td>1800 block 14th St NW</td>\n",
       "      <td>Sexual Orientation</td>\n",
       "      <td>NaN</td>\n",
       "      <td>Simple Assault</td>\n",
       "    </tr>\n",
       "    <tr>\n",
       "      <th>4</th>\n",
       "      <td>2012-01-14</td>\n",
       "      <td>0431-0433</td>\n",
       "      <td>2012-01-14</td>\n",
       "      <td>2012</td>\n",
       "      <td>1</td>\n",
       "      <td>12006742</td>\n",
       "      <td>3D</td>\n",
       "      <td>18th St NW and Florida Ave NW</td>\n",
       "      <td>Ethnicity/National Origin</td>\n",
       "      <td>Arab/Middle Eastern</td>\n",
       "      <td>Simple Assault</td>\n",
       "    </tr>\n",
       "    <tr>\n",
       "      <th>5</th>\n",
       "      <td>2012-01-22</td>\n",
       "      <td>145</td>\n",
       "      <td>2012-01-22</td>\n",
       "      <td>2012</td>\n",
       "      <td>1</td>\n",
       "      <td>12010626</td>\n",
       "      <td>7D</td>\n",
       "      <td>1300 block Alabama Ave SE</td>\n",
       "      <td>Sexual Orientation</td>\n",
       "      <td>NaN</td>\n",
       "      <td>ADW</td>\n",
       "    </tr>\n",
       "    <tr>\n",
       "      <th>6</th>\n",
       "      <td>2012-01-22</td>\n",
       "      <td>1930</td>\n",
       "      <td>2012-01-22</td>\n",
       "      <td>2012</td>\n",
       "      <td>1</td>\n",
       "      <td>12010912</td>\n",
       "      <td>1D</td>\n",
       "      <td>600 block H St NW</td>\n",
       "      <td>Race</td>\n",
       "      <td>Asian</td>\n",
       "      <td>Threats</td>\n",
       "    </tr>\n",
       "    <tr>\n",
       "      <th>7</th>\n",
       "      <td>2012-02-06</td>\n",
       "      <td>1900</td>\n",
       "      <td>2012-02-06</td>\n",
       "      <td>2012</td>\n",
       "      <td>2</td>\n",
       "      <td>12018396</td>\n",
       "      <td>3D</td>\n",
       "      <td>1300 block Park Rd NW</td>\n",
       "      <td>Sexual Orientation</td>\n",
       "      <td>NaN</td>\n",
       "      <td>Simple Assault</td>\n",
       "    </tr>\n",
       "    <tr>\n",
       "      <th>8</th>\n",
       "      <td>2012-02-08</td>\n",
       "      <td>1200-1230</td>\n",
       "      <td>2012-02-09</td>\n",
       "      <td>2012</td>\n",
       "      <td>2</td>\n",
       "      <td>12019568</td>\n",
       "      <td>1D</td>\n",
       "      <td>400 block 3rd St SE</td>\n",
       "      <td>Race</td>\n",
       "      <td>Black</td>\n",
       "      <td>Threats</td>\n",
       "    </tr>\n",
       "    <tr>\n",
       "      <th>9</th>\n",
       "      <td>2012-02-14</td>\n",
       "      <td>0900-0915</td>\n",
       "      <td>2012-02-14</td>\n",
       "      <td>2012</td>\n",
       "      <td>2</td>\n",
       "      <td>12021883</td>\n",
       "      <td>1D</td>\n",
       "      <td>1400 block Independence Ave SW</td>\n",
       "      <td>Ethnicity/National Origin</td>\n",
       "      <td>Unspecified</td>\n",
       "      <td>Simple Assault</td>\n",
       "    </tr>\n",
       "  </tbody>\n",
       "</table>\n",
       "</div>"
      ],
      "text/plain": [
       "  Date of Offense Time of Offense Date Offense Reported  Report Year  Month  \\\n",
       "0      2012-01-08       1500-1505            2012-01-08         2012      1   \n",
       "1      2012-01-12            1722            2012-01-12         2012      1   \n",
       "2      2012-01-13       1255-1258            2012-01-13         2012      1   \n",
       "3      2012-01-14       0240-0250            2012-01-14         2012      1   \n",
       "4      2012-01-14       0431-0433            2012-01-14         2012      1   \n",
       "5      2012-01-22             145            2012-01-22         2012      1   \n",
       "6      2012-01-22            1930            2012-01-22         2012      1   \n",
       "7      2012-02-06            1900            2012-02-06         2012      2   \n",
       "8      2012-02-08       1200-1230            2012-02-09         2012      2   \n",
       "9      2012-02-14       0900-0915            2012-02-14         2012      2   \n",
       "\n",
       "        CCN District                  Block Location  \\\n",
       "0  12003845       3D          1600 block 17th St NW    \n",
       "1  12005834       1D           3rd St SW and K St SW   \n",
       "2  12006285       4D   Park Rd NW and Sherman Ave NW   \n",
       "3  12006716       3D           1800 block 14th St NW   \n",
       "4  12006742       3D   18th St NW and Florida Ave NW   \n",
       "5  12010626       7D       1300 block Alabama Ave SE   \n",
       "6  12010912       1D               600 block H St NW   \n",
       "7  12018396       3D           1300 block Park Rd NW   \n",
       "8  12019568       1D             400 block 3rd St SE   \n",
       "9  12021883       1D  1400 block Independence Ave SW   \n",
       "\n",
       "           Type of Hate Bias      Targeted Group  Top Offense Type  \n",
       "0         Sexual Orientation                  NaN          Threats  \n",
       "1         Sexual Orientation                  NaN          Robbery  \n",
       "2                       Race          Unspecified   Simple Assault  \n",
       "3         Sexual Orientation                  NaN   Simple Assault  \n",
       "4  Ethnicity/National Origin  Arab/Middle Eastern   Simple Assault  \n",
       "5         Sexual Orientation                  NaN              ADW  \n",
       "6                       Race                Asian          Threats  \n",
       "7         Sexual Orientation                  NaN   Simple Assault  \n",
       "8                       Race                Black          Threats  \n",
       "9  Ethnicity/National Origin          Unspecified   Simple Assault  "
      ]
     },
     "execution_count": 55,
     "metadata": {},
     "output_type": "execute_result"
    }
   ],
   "source": [
    "data = pd.read_excel('HateCrimesOpenData.xlsx')\n",
    "data.head(10)"
   ]
  },
  {
   "cell_type": "code",
   "execution_count": 56,
   "id": "171e7a64",
   "metadata": {},
   "outputs": [
    {
     "data": {
      "text/plain": [
       "(1758, 11)"
      ]
     },
     "execution_count": 56,
     "metadata": {},
     "output_type": "execute_result"
    }
   ],
   "source": [
    "data.shape"
   ]
  },
  {
   "cell_type": "code",
   "execution_count": 57,
   "id": "036b3ff3",
   "metadata": {},
   "outputs": [
    {
     "name": "stdout",
     "output_type": "stream",
     "text": [
      "Index(['Date of Offense', 'Time of Offense', 'Date Offense Reported',\n",
      "       'Report Year', 'Month', 'CCN', 'District', 'Block Location',\n",
      "       'Type of Hate Bias', 'Targeted Group ', 'Top Offense Type'],\n",
      "      dtype='object')\n"
     ]
    }
   ],
   "source": [
    "print(data.columns)"
   ]
  },
  {
   "cell_type": "code",
   "execution_count": 58,
   "id": "1b57ca86",
   "metadata": {},
   "outputs": [
    {
     "name": "stdout",
     "output_type": "stream",
     "text": [
      "<class 'pandas.core.frame.DataFrame'>\n",
      "RangeIndex: 1758 entries, 0 to 1757\n",
      "Data columns (total 11 columns):\n",
      " #   Column                 Non-Null Count  Dtype         \n",
      "---  ------                 --------------  -----         \n",
      " 0   Date of Offense        1758 non-null   datetime64[ns]\n",
      " 1   Time of Offense        1758 non-null   object        \n",
      " 2   Date Offense Reported  1758 non-null   datetime64[ns]\n",
      " 3   Report Year            1758 non-null   int64         \n",
      " 4   Month                  1758 non-null   int64         \n",
      " 5   CCN                    1758 non-null   int64         \n",
      " 6   District               1758 non-null   object        \n",
      " 7   Block Location         1758 non-null   object        \n",
      " 8   Type of Hate Bias      1758 non-null   object        \n",
      " 9   Targeted Group         905 non-null    object        \n",
      " 10  Top Offense Type       1754 non-null   object        \n",
      "dtypes: datetime64[ns](2), int64(3), object(6)\n",
      "memory usage: 151.2+ KB\n"
     ]
    }
   ],
   "source": [
    "data.info()"
   ]
  },
  {
   "cell_type": "code",
   "execution_count": 59,
   "id": "58488b78",
   "metadata": {},
   "outputs": [
    {
     "data": {
      "text/plain": [
       "Targeted Group           853\n",
       "Top Offense Type           4\n",
       "Date of Offense            0\n",
       "Time of Offense            0\n",
       "Date Offense Reported      0\n",
       "Report Year                0\n",
       "Month                      0\n",
       "CCN                        0\n",
       "District                   0\n",
       "Block Location             0\n",
       "Type of Hate Bias          0\n",
       "dtype: int64"
      ]
     },
     "execution_count": 59,
     "metadata": {},
     "output_type": "execute_result"
    }
   ],
   "source": [
    "data.isnull().sum().sort_values(ascending=False)"
   ]
  },
  {
   "cell_type": "code",
   "execution_count": 77,
   "id": "6e1fa435",
   "metadata": {},
   "outputs": [
    {
     "data": {
      "text/plain": [
       "0"
      ]
     },
     "execution_count": 77,
     "metadata": {},
     "output_type": "execute_result"
    }
   ],
   "source": [
    "data.duplicated().sum()"
   ]
  },
  {
   "cell_type": "code",
   "execution_count": 78,
   "id": "97123dfa",
   "metadata": {},
   "outputs": [
    {
     "name": "stdout",
     "output_type": "stream",
     "text": [
      "Type of Hate Bias\n",
      "Disability                                                       0\n",
      "Disability; Sexual Orientation                                   0\n",
      "Ethnicity/National Origin                                      408\n",
      "Ethnicity/National Origin; Homelessness                          1\n",
      "Ethnicity/National Origin; Race                                  2\n",
      "Ethnicity/National Orogin                                        1\n",
      "Ethnicty/National Origin                                         1\n",
      "Gender Identity/Expression                                       0\n",
      "Homelessness                                                     3\n",
      "Personal Appearance                                              0\n",
      "Political Affiliation                                            0\n",
      "Political Affiliation                                            0\n",
      "Race                                                           378\n",
      "Race; Ethnicity/National Origin; Gender Identity/Expression      1\n",
      "Race; Sexual Orientation                                         4\n",
      "Religion                                                        96\n",
      "Religion; Ethnicity/National Origin                              2\n",
      "Sex/Gender                                                       4\n",
      "Sexual Orientation                                               0\n",
      "Sexual Orientation; Ethnicity/National Origin                    3\n",
      "Sexual Orientation; Gender Identity/Expression                   0\n",
      "Sexual Orientation; Personal Appearance                          0\n",
      "Sexual Orientation; Race                                         1\n",
      "Name: Targeted Group , dtype: int64\n"
     ]
    }
   ],
   "source": [
    "print(data.groupby('Type of Hate Bias')['Targeted Group '].count())"
   ]
  },
  {
   "cell_type": "code",
   "execution_count": 79,
   "id": "c9840681",
   "metadata": {},
   "outputs": [
    {
     "name": "stdout",
     "output_type": "stream",
     "text": [
      "Date of the earliest incident:  2012-01-08 00:00:00\n",
      "Date of the latest incident:  2025-06-20 00:00:00\n"
     ]
    }
   ],
   "source": [
    "print(f\"Date of the earliest incident: \",data['Date of Offense'].min())\n",
    "print(f\"Date of the latest incident: \",data['Date of Offense'].max())"
   ]
  },
  {
   "cell_type": "code",
   "execution_count": 80,
   "id": "36e9db25",
   "metadata": {},
   "outputs": [
    {
     "name": "stdout",
     "output_type": "stream",
     "text": [
      "Number of incidents involving Sexual Orientation: 550\n",
      "Number of incidents involving Gender Identity/Expression: 246\n",
      "Total number of incidents involving Seuxal Orientation and Gender Identity/Expression: 796\n"
     ]
    }
   ],
   "source": [
    "# Count the number of incidents where 'Type of Hate Bias' = 'Sexual Orientation'\n",
    "sexualOrientationCount = (data['Type of Hate Bias'] == 'Sexual Orientation').sum()\n",
    "print(f\"Number of incidents involving Sexual Orientation: {sexualOrientationCount}\")\n",
    "\n",
    "# Count the number of incidents where 'Type of Hate Bias' = 'Gender Identity/Expression'\n",
    "genderIdentityCount = (data['Type of Hate Bias'] == 'Gender Identity/Expression').sum()\n",
    "print(f\"Number of incidents involving Gender Identity/Expression: {genderIdentityCount}\")\n",
    "\n",
    "totalCount = sexualOrientationCount + genderIdentityCount\n",
    "\n",
    "print(f\"Total number of incidents involving Seuxal Orientation and Gender Identity/Expression: {totalCount}\")"
   ]
  }
 ],
 "metadata": {
  "kernelspec": {
   "display_name": "base",
   "language": "python",
   "name": "python3"
  },
  "language_info": {
   "codemirror_mode": {
    "name": "ipython",
    "version": 3
   },
   "file_extension": ".py",
   "mimetype": "text/x-python",
   "name": "python",
   "nbconvert_exporter": "python",
   "pygments_lexer": "ipython3",
   "version": "3.11.7"
  }
 },
 "nbformat": 4,
 "nbformat_minor": 5
}
